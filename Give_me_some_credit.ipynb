{
  "nbformat": 4,
  "nbformat_minor": 0,
  "metadata": {
    "colab": {
      "name": "Untitled",
      "provenance": []
    },
    "kernelspec": {
      "name": "python3",
      "display_name": "Python 3"
    }
  },
  "cells": [
    {
      "cell_type": "markdown",
      "metadata": {
        "id": "ypatjsSgaZz9"
      },
      "source": [
        "**Credit Scoring Model:**\n",
        "This model uses a [ Kaggle Dataset](https://www.kaggle.com/c/GiveMeSomeCredit) about credit repayment difficulty rates among customers \n",
        "\n"
      ]
    },
    {
      "cell_type": "code",
      "metadata": {
        "id": "e379ytPpI1eX"
      },
      "source": [
        "import warnings\n",
        "warnings.simplefilter(action=\"ignore\", category=FutureWarning)\n",
        "warnings.simplefilter(action=\"ignore\", category=Warning)\n",
        "\n",
        "import pandas as pd\n",
        "import numpy as np\n",
        "\n",
        "import matplotlib.pyplot as plt\n",
        "%matplotlib inline\n",
        "import seaborn as sns\n",
        "sns.set(style='white', context='notebook', palette='deep')\n",
        "from collections import Counter"
      ],
      "execution_count": 667,
      "outputs": []
    },
    {
      "cell_type": "code",
      "metadata": {
        "id": "MTFbo5rnJTq3",
        "colab": {
          "base_uri": "https://localhost:8080/"
        },
        "outputId": "b369eb8e-c634-47d7-88d2-d0a268305060"
      },
      "source": [
        "train_df = pd.read_csv('cs-training.csv')\n",
        "train_df.shape"
      ],
      "execution_count": 668,
      "outputs": [
        {
          "output_type": "execute_result",
          "data": {
            "text/plain": [
              "(150000, 12)"
            ]
          },
          "metadata": {
            "tags": []
          },
          "execution_count": 668
        }
      ]
    },
    {
      "cell_type": "code",
      "metadata": {
        "colab": {
          "base_uri": "https://localhost:8080/"
        },
        "id": "YAQ0rbWVLI_T",
        "outputId": "30f205e9-6a87-4518-a5c3-203796d49740"
      },
      "source": [
        "test_df = pd.read_csv('cs-test.csv')\n",
        "test_df.shape"
      ],
      "execution_count": 669,
      "outputs": [
        {
          "output_type": "execute_result",
          "data": {
            "text/plain": [
              "(101503, 12)"
            ]
          },
          "metadata": {
            "tags": []
          },
          "execution_count": 669
        }
      ]
    },
    {
      "cell_type": "code",
      "metadata": {
        "colab": {
          "base_uri": "https://localhost:8080/",
          "height": 239
        },
        "id": "EdEY_pmYKbSZ",
        "outputId": "99797eea-23ed-48f0-8e2b-35f4d4e55894"
      },
      "source": [
        "train_df.head()"
      ],
      "execution_count": 670,
      "outputs": [
        {
          "output_type": "execute_result",
          "data": {
            "text/html": [
              "<div>\n",
              "<style scoped>\n",
              "    .dataframe tbody tr th:only-of-type {\n",
              "        vertical-align: middle;\n",
              "    }\n",
              "\n",
              "    .dataframe tbody tr th {\n",
              "        vertical-align: top;\n",
              "    }\n",
              "\n",
              "    .dataframe thead th {\n",
              "        text-align: right;\n",
              "    }\n",
              "</style>\n",
              "<table border=\"1\" class=\"dataframe\">\n",
              "  <thead>\n",
              "    <tr style=\"text-align: right;\">\n",
              "      <th></th>\n",
              "      <th>Unnamed: 0</th>\n",
              "      <th>SeriousDlqin2yrs</th>\n",
              "      <th>RevolvingUtilizationOfUnsecuredLines</th>\n",
              "      <th>age</th>\n",
              "      <th>NumberOfTime30-59DaysPastDueNotWorse</th>\n",
              "      <th>DebtRatio</th>\n",
              "      <th>MonthlyIncome</th>\n",
              "      <th>NumberOfOpenCreditLinesAndLoans</th>\n",
              "      <th>NumberOfTimes90DaysLate</th>\n",
              "      <th>NumberRealEstateLoansOrLines</th>\n",
              "      <th>NumberOfTime60-89DaysPastDueNotWorse</th>\n",
              "      <th>NumberOfDependents</th>\n",
              "    </tr>\n",
              "  </thead>\n",
              "  <tbody>\n",
              "    <tr>\n",
              "      <th>0</th>\n",
              "      <td>1</td>\n",
              "      <td>1</td>\n",
              "      <td>0.766127</td>\n",
              "      <td>45</td>\n",
              "      <td>2</td>\n",
              "      <td>0.802982</td>\n",
              "      <td>9120.0</td>\n",
              "      <td>13</td>\n",
              "      <td>0</td>\n",
              "      <td>6</td>\n",
              "      <td>0</td>\n",
              "      <td>2.0</td>\n",
              "    </tr>\n",
              "    <tr>\n",
              "      <th>1</th>\n",
              "      <td>2</td>\n",
              "      <td>0</td>\n",
              "      <td>0.957151</td>\n",
              "      <td>40</td>\n",
              "      <td>0</td>\n",
              "      <td>0.121876</td>\n",
              "      <td>2600.0</td>\n",
              "      <td>4</td>\n",
              "      <td>0</td>\n",
              "      <td>0</td>\n",
              "      <td>0</td>\n",
              "      <td>1.0</td>\n",
              "    </tr>\n",
              "    <tr>\n",
              "      <th>2</th>\n",
              "      <td>3</td>\n",
              "      <td>0</td>\n",
              "      <td>0.658180</td>\n",
              "      <td>38</td>\n",
              "      <td>1</td>\n",
              "      <td>0.085113</td>\n",
              "      <td>3042.0</td>\n",
              "      <td>2</td>\n",
              "      <td>1</td>\n",
              "      <td>0</td>\n",
              "      <td>0</td>\n",
              "      <td>0.0</td>\n",
              "    </tr>\n",
              "    <tr>\n",
              "      <th>3</th>\n",
              "      <td>4</td>\n",
              "      <td>0</td>\n",
              "      <td>0.233810</td>\n",
              "      <td>30</td>\n",
              "      <td>0</td>\n",
              "      <td>0.036050</td>\n",
              "      <td>3300.0</td>\n",
              "      <td>5</td>\n",
              "      <td>0</td>\n",
              "      <td>0</td>\n",
              "      <td>0</td>\n",
              "      <td>0.0</td>\n",
              "    </tr>\n",
              "    <tr>\n",
              "      <th>4</th>\n",
              "      <td>5</td>\n",
              "      <td>0</td>\n",
              "      <td>0.907239</td>\n",
              "      <td>49</td>\n",
              "      <td>1</td>\n",
              "      <td>0.024926</td>\n",
              "      <td>63588.0</td>\n",
              "      <td>7</td>\n",
              "      <td>0</td>\n",
              "      <td>1</td>\n",
              "      <td>0</td>\n",
              "      <td>0.0</td>\n",
              "    </tr>\n",
              "  </tbody>\n",
              "</table>\n",
              "</div>"
            ],
            "text/plain": [
              "   Unnamed: 0  ...  NumberOfDependents\n",
              "0           1  ...                 2.0\n",
              "1           2  ...                 1.0\n",
              "2           3  ...                 0.0\n",
              "3           4  ...                 0.0\n",
              "4           5  ...                 0.0\n",
              "\n",
              "[5 rows x 12 columns]"
            ]
          },
          "metadata": {
            "tags": []
          },
          "execution_count": 670
        }
      ]
    },
    {
      "cell_type": "markdown",
      "metadata": {
        "id": "W6N1A-H9OvmZ"
      },
      "source": [
        "**DATASET VARIABLES**\n",
        "\n",
        "**SeriousDlqin2yrs (Target variable)** : Person experienced 90 days past due delinquency or worse\n",
        "\n",
        "**RevolvingUtilizationOfUnsecuredLines** : Total balance on credit cards and personal lines of credit except real estate and no installment debt like car loans divided by the sum of credit limits\n",
        "\n",
        "**age** : Age of borrower in years\n",
        "\n",
        "**NumberOfTime30-59DaysPastDueNotWorse** : Number of times borrower has been 30-59 days past due but no worse in the last 2 years.\n",
        "\n",
        "**DebtRatio** : Monthly debt payments, alimony,living costs divided by monthy gross income\n",
        "\n",
        "**MonthlyIncome** : Monthly income\n",
        "\n",
        "**NumberOfOpenCreditLinesAndLoans** : Number of Open loans (installment like car loan or mortgage) and Lines of credit (e.g. credit cards)\n",
        "\n",
        "**NumberOfTimes90DaysLate** : Number of times borrower has been 90 days or more past due.\n",
        "\n",
        "**NumberRealEstateLoansOrLines** : Number of mortgage and real estate loans including home equity lines of credit\n",
        "\n",
        "**NumberOfTime60-89DaysPastDueNotWorse** : Number of times borrower has been 60-89 days past due but no worse in the last 2 years.\n",
        "\n",
        "**NumberOfDependents** : Number of dependents in family excluding themselves (spouse, children etc.)"
      ]
    },
    {
      "cell_type": "markdown",
      "metadata": {
        "id": "hyFi9726KrAs"
      },
      "source": [
        "**Understanding Data**\n"
      ]
    },
    {
      "cell_type": "code",
      "metadata": {
        "colab": {
          "base_uri": "https://localhost:8080/"
        },
        "id": "8feWBe39KkSk",
        "outputId": "43f42c0b-3430-4814-e8cb-a9ce8cc712a3"
      },
      "source": [
        "train_df.info()"
      ],
      "execution_count": 671,
      "outputs": [
        {
          "output_type": "stream",
          "text": [
            "<class 'pandas.core.frame.DataFrame'>\n",
            "RangeIndex: 150000 entries, 0 to 149999\n",
            "Data columns (total 12 columns):\n",
            " #   Column                                Non-Null Count   Dtype  \n",
            "---  ------                                --------------   -----  \n",
            " 0   Unnamed: 0                            150000 non-null  int64  \n",
            " 1   SeriousDlqin2yrs                      150000 non-null  int64  \n",
            " 2   RevolvingUtilizationOfUnsecuredLines  150000 non-null  float64\n",
            " 3   age                                   150000 non-null  int64  \n",
            " 4   NumberOfTime30-59DaysPastDueNotWorse  150000 non-null  int64  \n",
            " 5   DebtRatio                             150000 non-null  float64\n",
            " 6   MonthlyIncome                         120269 non-null  float64\n",
            " 7   NumberOfOpenCreditLinesAndLoans       150000 non-null  int64  \n",
            " 8   NumberOfTimes90DaysLate               150000 non-null  int64  \n",
            " 9   NumberRealEstateLoansOrLines          150000 non-null  int64  \n",
            " 10  NumberOfTime60-89DaysPastDueNotWorse  150000 non-null  int64  \n",
            " 11  NumberOfDependents                    146076 non-null  float64\n",
            "dtypes: float64(4), int64(8)\n",
            "memory usage: 13.7 MB\n"
          ],
          "name": "stdout"
        }
      ]
    },
    {
      "cell_type": "code",
      "metadata": {
        "colab": {
          "base_uri": "https://localhost:8080/"
        },
        "id": "PR1m1Vg0LuWm",
        "outputId": "737e53f1-fe0c-4ed0-b1f0-035d9dde6f87"
      },
      "source": [
        "train_df.isnull().sum()"
      ],
      "execution_count": 672,
      "outputs": [
        {
          "output_type": "execute_result",
          "data": {
            "text/plain": [
              "Unnamed: 0                                  0\n",
              "SeriousDlqin2yrs                            0\n",
              "RevolvingUtilizationOfUnsecuredLines        0\n",
              "age                                         0\n",
              "NumberOfTime30-59DaysPastDueNotWorse        0\n",
              "DebtRatio                                   0\n",
              "MonthlyIncome                           29731\n",
              "NumberOfOpenCreditLinesAndLoans             0\n",
              "NumberOfTimes90DaysLate                     0\n",
              "NumberRealEstateLoansOrLines                0\n",
              "NumberOfTime60-89DaysPastDueNotWorse        0\n",
              "NumberOfDependents                       3924\n",
              "dtype: int64"
            ]
          },
          "metadata": {
            "tags": []
          },
          "execution_count": 672
        }
      ]
    },
    {
      "cell_type": "code",
      "metadata": {
        "colab": {
          "base_uri": "https://localhost:8080/"
        },
        "id": "u_Bx1X0TLy_b",
        "outputId": "059c5770-7cb0-4a37-c597-9dd3fb2fbf5f"
      },
      "source": [
        "test_df.isnull().sum()"
      ],
      "execution_count": 673,
      "outputs": [
        {
          "output_type": "execute_result",
          "data": {
            "text/plain": [
              "Unnamed: 0                                   0\n",
              "SeriousDlqin2yrs                        101503\n",
              "RevolvingUtilizationOfUnsecuredLines         0\n",
              "age                                          0\n",
              "NumberOfTime30-59DaysPastDueNotWorse         0\n",
              "DebtRatio                                    0\n",
              "MonthlyIncome                            20103\n",
              "NumberOfOpenCreditLinesAndLoans              0\n",
              "NumberOfTimes90DaysLate                      0\n",
              "NumberRealEstateLoansOrLines                 0\n",
              "NumberOfTime60-89DaysPastDueNotWorse         0\n",
              "NumberOfDependents                        2626\n",
              "dtype: int64"
            ]
          },
          "metadata": {
            "tags": []
          },
          "execution_count": 673
        }
      ]
    },
    {
      "cell_type": "markdown",
      "metadata": {
        "id": "9JC75u1hMUst"
      },
      "source": [
        "In test dataset the target variable also contains some null values.\n",
        "\n",
        "First we have to either fill these missing values or remove the missing values data. Here we are replacing the missing values with the median in 'MonthlyIncome' column after removing the outliers if any, and with 0 in 'NumberOfdependents' column in the traing dataset."
      ]
    },
    {
      "cell_type": "code",
      "metadata": {
        "colab": {
          "base_uri": "https://localhost:8080/"
        },
        "id": "CWPU60v_-dq3",
        "outputId": "d91533cd-b14f-4d06-de47-2243cb2730e2"
      },
      "source": [
        "train_df.MonthlyIncome.median()"
      ],
      "execution_count": 674,
      "outputs": [
        {
          "output_type": "execute_result",
          "data": {
            "text/plain": [
              "5400.0"
            ]
          },
          "metadata": {
            "tags": []
          },
          "execution_count": 674
        }
      ]
    },
    {
      "cell_type": "code",
      "metadata": {
        "colab": {
          "base_uri": "https://localhost:8080/"
        },
        "id": "_8ecRWFySVCG",
        "outputId": "e038c4fb-5f61-482e-d0c3-a520bddd7f75"
      },
      "source": [
        "test_df.MonthlyIncome.median()"
      ],
      "execution_count": 675,
      "outputs": [
        {
          "output_type": "execute_result",
          "data": {
            "text/plain": [
              "5400.0"
            ]
          },
          "metadata": {
            "tags": []
          },
          "execution_count": 675
        }
      ]
    },
    {
      "cell_type": "code",
      "metadata": {
        "id": "8gt6En0l-rzW"
      },
      "source": [
        "train_df.MonthlyIncome = train_df.MonthlyIncome.fillna(train_df.MonthlyIncome.median())\n",
        "test_df.MonthlyIncome = test_df.MonthlyIncome.fillna(test_df.MonthlyIncome.median())"
      ],
      "execution_count": 676,
      "outputs": []
    },
    {
      "cell_type": "code",
      "metadata": {
        "id": "_XBL5RQPAQ2d"
      },
      "source": [
        "train_df.NumberOfDependents = train_df.NumberOfDependents.fillna(train_df.NumberOfDependents.median())\n",
        "test_df.NumberOfDependents = test_df.NumberOfDependents.fillna(test_df.NumberOfDependents.median())"
      ],
      "execution_count": 677,
      "outputs": []
    },
    {
      "cell_type": "code",
      "metadata": {
        "colab": {
          "base_uri": "https://localhost:8080/",
          "height": 303
        },
        "id": "kJaIDPKAyg_r",
        "outputId": "646384fd-0311-4bde-a541-f163790406ed"
      },
      "source": [
        "# Boxplot to check for the outliers\n",
        "sns.boxplot(train_df['MonthlyIncome'])"
      ],
      "execution_count": 678,
      "outputs": [
        {
          "output_type": "execute_result",
          "data": {
            "text/plain": [
              "<matplotlib.axes._subplots.AxesSubplot at 0x7f1c6c7b1ba8>"
            ]
          },
          "metadata": {
            "tags": []
          },
          "execution_count": 678
        },
        {
          "output_type": "display_data",
          "data": {
            "image/png": "[encoded data removed]",
            "text/plain": [
              "<Figure size 432x288 with 1 Axes>"
            ]
          },
          "metadata": {
            "tags": []
          }
        }
      ]
    },
    {
      "cell_type": "markdown",
      "metadata": {
        "id": "uWWX3JaV161D"
      },
      "source": [
        "We can clearly see the presence of outliers in 'MonthlyIncome' column.\n",
        "Let's write code to remove the outliers from all the numerical columns present in the dataset using Interquartile range (IQR)."
      ]
    },
    {
      "cell_type": "code",
      "metadata": {
        "id": "HcbG0D0j1k63"
      },
      "source": [
        "def detect_outliers(df,n,features):\n",
        "    outlier_indices = []\n",
        "    \n",
        "    # iterate over features(columns)\n",
        "    for col in features:\n",
        "        # 1st quartile (25%)\n",
        "        Q1 = np.percentile(df[col], 25)\n",
        "        # 3rd quartile (75%)\n",
        "        Q3 = np.percentile(df[col],75)\n",
        "        # Interquartile range (IQR)\n",
        "        IQR = Q3 - Q1\n",
        "        # outlier step\n",
        "        outlier_step = 1.5 * IQR\n",
        "        \n",
        "        # Determine a list of indices of outliers for feature col\n",
        "        outlier_list_col = df[(df[col] < Q1 - outlier_step) | (df[col] > Q3 + outlier_step )].index\n",
        "        \n",
        "        # append the found outlier indices for col to the list of outlier indices \n",
        "        outlier_indices.extend(outlier_list_col)\n",
        "        \n",
        "    # select observations containing more than 2 outliers\n",
        "    outlier_indices = Counter(outlier_indices)        \n",
        "    multiple_outliers = list( k for k, v in outlier_indices.items() if v > n )\n",
        "    \n",
        "    return multiple_outliers"
      ],
      "execution_count": 679,
      "outputs": []
    },
    {
      "cell_type": "code",
      "metadata": {
        "id": "vhQaNSq92y0-"
      },
      "source": [
        "detected_outliers = detect_outliers(train_df,2,[\"RevolvingUtilizationOfUnsecuredLines\",\n",
        "                                            \"age\",\n",
        "                                            \"NumberOfTime30-59DaysPastDueNotWorse\",\n",
        "                                            \"DebtRatio\",\n",
        "                                            \"MonthlyIncome\",\n",
        "                                            \"NumberOfOpenCreditLinesAndLoans\",\n",
        "                                            \"NumberOfTimes90DaysLate\",\n",
        "                                            \"NumberRealEstateLoansOrLines\",\n",
        "                                            \"NumberOfTime60-89DaysPastDueNotWorse\",\n",
        "                                            \"Unnamed: 0\",\n",
        "                                            \"NumberOfDependents\"])"
      ],
      "execution_count": 680,
      "outputs": []
    },
    {
      "cell_type": "code",
      "metadata": {
        "colab": {
          "base_uri": "https://localhost:8080/",
          "height": 453
        },
        "id": "l-8B2C413CRX",
        "outputId": "a1b48e30-1107-447b-c9f4-7d24e8cde54b"
      },
      "source": [
        "train_df.loc[detected_outliers]"
      ],
      "execution_count": 681,
      "outputs": [
        {
          "output_type": "execute_result",
          "data": {
            "text/html": [
              "<div>\n",
              "<style scoped>\n",
              "    .dataframe tbody tr th:only-of-type {\n",
              "        vertical-align: middle;\n",
              "    }\n",
              "\n",
              "    .dataframe tbody tr th {\n",
              "        vertical-align: top;\n",
              "    }\n",
              "\n",
              "    .dataframe thead th {\n",
              "        text-align: right;\n",
              "    }\n",
              "</style>\n",
              "<table border=\"1\" class=\"dataframe\">\n",
              "  <thead>\n",
              "    <tr style=\"text-align: right;\">\n",
              "      <th></th>\n",
              "      <th>Unnamed: 0</th>\n",
              "      <th>SeriousDlqin2yrs</th>\n",
              "      <th>RevolvingUtilizationOfUnsecuredLines</th>\n",
              "      <th>age</th>\n",
              "      <th>NumberOfTime30-59DaysPastDueNotWorse</th>\n",
              "      <th>DebtRatio</th>\n",
              "      <th>MonthlyIncome</th>\n",
              "      <th>NumberOfOpenCreditLinesAndLoans</th>\n",
              "      <th>NumberOfTimes90DaysLate</th>\n",
              "      <th>NumberRealEstateLoansOrLines</th>\n",
              "      <th>NumberOfTime60-89DaysPastDueNotWorse</th>\n",
              "      <th>NumberOfDependents</th>\n",
              "    </tr>\n",
              "  </thead>\n",
              "  <tbody>\n",
              "    <tr>\n",
              "      <th>900</th>\n",
              "      <td>901</td>\n",
              "      <td>0</td>\n",
              "      <td>2.258964</td>\n",
              "      <td>33</td>\n",
              "      <td>2</td>\n",
              "      <td>0.032484</td>\n",
              "      <td>2000.0</td>\n",
              "      <td>1</td>\n",
              "      <td>1</td>\n",
              "      <td>0</td>\n",
              "      <td>0</td>\n",
              "      <td>2.0</td>\n",
              "    </tr>\n",
              "    <tr>\n",
              "      <th>919</th>\n",
              "      <td>920</td>\n",
              "      <td>1</td>\n",
              "      <td>1.362142</td>\n",
              "      <td>73</td>\n",
              "      <td>1</td>\n",
              "      <td>274.000000</td>\n",
              "      <td>5400.0</td>\n",
              "      <td>2</td>\n",
              "      <td>3</td>\n",
              "      <td>0</td>\n",
              "      <td>1</td>\n",
              "      <td>0.0</td>\n",
              "    </tr>\n",
              "    <tr>\n",
              "      <th>1958</th>\n",
              "      <td>1959</td>\n",
              "      <td>0</td>\n",
              "      <td>1.634551</td>\n",
              "      <td>28</td>\n",
              "      <td>0</td>\n",
              "      <td>151.000000</td>\n",
              "      <td>5400.0</td>\n",
              "      <td>1</td>\n",
              "      <td>3</td>\n",
              "      <td>0</td>\n",
              "      <td>2</td>\n",
              "      <td>0.0</td>\n",
              "    </tr>\n",
              "    <tr>\n",
              "      <th>4793</th>\n",
              "      <td>4794</td>\n",
              "      <td>0</td>\n",
              "      <td>3746.000000</td>\n",
              "      <td>52</td>\n",
              "      <td>2</td>\n",
              "      <td>0.481353</td>\n",
              "      <td>2600.0</td>\n",
              "      <td>5</td>\n",
              "      <td>0</td>\n",
              "      <td>1</td>\n",
              "      <td>0</td>\n",
              "      <td>3.0</td>\n",
              "    </tr>\n",
              "    <tr>\n",
              "      <th>4852</th>\n",
              "      <td>4853</td>\n",
              "      <td>0</td>\n",
              "      <td>1.566866</td>\n",
              "      <td>46</td>\n",
              "      <td>2</td>\n",
              "      <td>0.104983</td>\n",
              "      <td>6000.0</td>\n",
              "      <td>3</td>\n",
              "      <td>2</td>\n",
              "      <td>0</td>\n",
              "      <td>0</td>\n",
              "      <td>0.0</td>\n",
              "    </tr>\n",
              "    <tr>\n",
              "      <th>...</th>\n",
              "      <td>...</td>\n",
              "      <td>...</td>\n",
              "      <td>...</td>\n",
              "      <td>...</td>\n",
              "      <td>...</td>\n",
              "      <td>...</td>\n",
              "      <td>...</td>\n",
              "      <td>...</td>\n",
              "      <td>...</td>\n",
              "      <td>...</td>\n",
              "      <td>...</td>\n",
              "      <td>...</td>\n",
              "    </tr>\n",
              "    <tr>\n",
              "      <th>142226</th>\n",
              "      <td>142227</td>\n",
              "      <td>1</td>\n",
              "      <td>0.859714</td>\n",
              "      <td>55</td>\n",
              "      <td>0</td>\n",
              "      <td>0.599348</td>\n",
              "      <td>11046.0</td>\n",
              "      <td>18</td>\n",
              "      <td>7</td>\n",
              "      <td>6</td>\n",
              "      <td>6</td>\n",
              "      <td>1.0</td>\n",
              "    </tr>\n",
              "    <tr>\n",
              "      <th>142830</th>\n",
              "      <td>142831</td>\n",
              "      <td>0</td>\n",
              "      <td>0.889452</td>\n",
              "      <td>47</td>\n",
              "      <td>0</td>\n",
              "      <td>0.411026</td>\n",
              "      <td>8833.0</td>\n",
              "      <td>13</td>\n",
              "      <td>3</td>\n",
              "      <td>1</td>\n",
              "      <td>1</td>\n",
              "      <td>3.0</td>\n",
              "    </tr>\n",
              "    <tr>\n",
              "      <th>143782</th>\n",
              "      <td>143783</td>\n",
              "      <td>1</td>\n",
              "      <td>1.000000</td>\n",
              "      <td>38</td>\n",
              "      <td>0</td>\n",
              "      <td>0.250573</td>\n",
              "      <td>5666.0</td>\n",
              "      <td>4</td>\n",
              "      <td>2</td>\n",
              "      <td>1</td>\n",
              "      <td>1</td>\n",
              "      <td>3.0</td>\n",
              "    </tr>\n",
              "    <tr>\n",
              "      <th>146360</th>\n",
              "      <td>146361</td>\n",
              "      <td>0</td>\n",
              "      <td>0.921219</td>\n",
              "      <td>45</td>\n",
              "      <td>0</td>\n",
              "      <td>0.092564</td>\n",
              "      <td>3845.0</td>\n",
              "      <td>3</td>\n",
              "      <td>1</td>\n",
              "      <td>0</td>\n",
              "      <td>1</td>\n",
              "      <td>3.0</td>\n",
              "    </tr>\n",
              "    <tr>\n",
              "      <th>37033</th>\n",
              "      <td>37034</td>\n",
              "      <td>0</td>\n",
              "      <td>0.059606</td>\n",
              "      <td>49</td>\n",
              "      <td>0</td>\n",
              "      <td>1.171569</td>\n",
              "      <td>12000.0</td>\n",
              "      <td>20</td>\n",
              "      <td>0</td>\n",
              "      <td>8</td>\n",
              "      <td>1</td>\n",
              "      <td>5.0</td>\n",
              "    </tr>\n",
              "  </tbody>\n",
              "</table>\n",
              "<p>5207 rows × 12 columns</p>\n",
              "</div>"
            ],
            "text/plain": [
              "        Unnamed: 0  ...  NumberOfDependents\n",
              "900            901  ...                 2.0\n",
              "919            920  ...                 0.0\n",
              "1958          1959  ...                 0.0\n",
              "4793          4794  ...                 3.0\n",
              "4852          4853  ...                 0.0\n",
              "...            ...  ...                 ...\n",
              "142226      142227  ...                 1.0\n",
              "142830      142831  ...                 3.0\n",
              "143782      143783  ...                 3.0\n",
              "146360      146361  ...                 3.0\n",
              "37033        37034  ...                 5.0\n",
              "\n",
              "[5207 rows x 12 columns]"
            ]
          },
          "metadata": {
            "tags": []
          },
          "execution_count": 681
        }
      ]
    },
    {
      "cell_type": "code",
      "metadata": {
        "id": "xIYoCEOO3Mr9"
      },
      "source": [
        "train_df = train_df.drop(detected_outliers, axis = 0).reset_index(drop=True)"
      ],
      "execution_count": 682,
      "outputs": []
    },
    {
      "cell_type": "code",
      "metadata": {
        "colab": {
          "base_uri": "https://localhost:8080/"
        },
        "id": "iYlJ0i2K3VW9",
        "outputId": "775a5c3c-2ab9-4041-b517-2327a72096a9"
      },
      "source": [
        "train_df.shape"
      ],
      "execution_count": 683,
      "outputs": [
        {
          "output_type": "execute_result",
          "data": {
            "text/plain": [
              "(144793, 12)"
            ]
          },
          "metadata": {
            "tags": []
          },
          "execution_count": 683
        }
      ]
    },
    {
      "cell_type": "code",
      "metadata": {
        "colab": {
          "base_uri": "https://localhost:8080/",
          "height": 504
        },
        "id": "OONx5a39M2Vg",
        "outputId": "1ebd8b3a-2712-442d-e039-0cb2702ebe94"
      },
      "source": [
        "# Correlation matrix\n",
        "g = sns.heatmap(train_df.corr(),annot=False, fmt = \".2f\", cmap = \"coolwarm\")"
      ],
      "execution_count": 684,
      "outputs": [
        {
          "output_type": "display_data",
          "data": {
            "image/png": "[encoded data removed]",
            "text/plain": [
              "<Figure size 432x288 with 2 Axes>"
            ]
          },
          "metadata": {
            "tags": []
          }
        }
      ]
    },
    {
      "cell_type": "code",
      "metadata": {
        "colab": {
          "base_uri": "https://localhost:8080/",
          "height": 489
        },
        "id": "hSrZLphbb2yx",
        "outputId": "0d1ec37d-3206-4add-bffc-64c369c4117d"
      },
      "source": [
        "train_df.corr(method='spearman')"
      ],
      "execution_count": 685,
      "outputs": [
        {
          "output_type": "execute_result",
          "data": {
            "text/html": [
              "<div>\n",
              "<style scoped>\n",
              "    .dataframe tbody tr th:only-of-type {\n",
              "        vertical-align: middle;\n",
              "    }\n",
              "\n",
              "    .dataframe tbody tr th {\n",
              "        vertical-align: top;\n",
              "    }\n",
              "\n",
              "    .dataframe thead th {\n",
              "        text-align: right;\n",
              "    }\n",
              "</style>\n",
              "<table border=\"1\" class=\"dataframe\">\n",
              "  <thead>\n",
              "    <tr style=\"text-align: right;\">\n",
              "      <th></th>\n",
              "      <th>Unnamed: 0</th>\n",
              "      <th>SeriousDlqin2yrs</th>\n",
              "      <th>RevolvingUtilizationOfUnsecuredLines</th>\n",
              "      <th>age</th>\n",
              "      <th>NumberOfTime30-59DaysPastDueNotWorse</th>\n",
              "      <th>DebtRatio</th>\n",
              "      <th>MonthlyIncome</th>\n",
              "      <th>NumberOfOpenCreditLinesAndLoans</th>\n",
              "      <th>NumberOfTimes90DaysLate</th>\n",
              "      <th>NumberRealEstateLoansOrLines</th>\n",
              "      <th>NumberOfTime60-89DaysPastDueNotWorse</th>\n",
              "      <th>NumberOfDependents</th>\n",
              "    </tr>\n",
              "  </thead>\n",
              "  <tbody>\n",
              "    <tr>\n",
              "      <th>Unnamed: 0</th>\n",
              "      <td>1.000000</td>\n",
              "      <td>0.000925</td>\n",
              "      <td>-0.004502</td>\n",
              "      <td>0.004545</td>\n",
              "      <td>0.000859</td>\n",
              "      <td>-0.000872</td>\n",
              "      <td>0.001518</td>\n",
              "      <td>0.004633</td>\n",
              "      <td>-0.004994</td>\n",
              "      <td>-0.001615</td>\n",
              "      <td>0.001177</td>\n",
              "      <td>-0.000926</td>\n",
              "    </tr>\n",
              "    <tr>\n",
              "      <th>SeriousDlqin2yrs</th>\n",
              "      <td>0.000925</td>\n",
              "      <td>1.000000</td>\n",
              "      <td>0.206985</td>\n",
              "      <td>-0.107541</td>\n",
              "      <td>0.186670</td>\n",
              "      <td>0.005924</td>\n",
              "      <td>-0.060144</td>\n",
              "      <td>-0.024916</td>\n",
              "      <td>0.248020</td>\n",
              "      <td>-0.028045</td>\n",
              "      <td>0.166578</td>\n",
              "      <td>0.036674</td>\n",
              "    </tr>\n",
              "    <tr>\n",
              "      <th>RevolvingUtilizationOfUnsecuredLines</th>\n",
              "      <td>-0.004502</td>\n",
              "      <td>0.206985</td>\n",
              "      <td>1.000000</td>\n",
              "      <td>-0.273613</td>\n",
              "      <td>0.189235</td>\n",
              "      <td>0.075496</td>\n",
              "      <td>-0.061229</td>\n",
              "      <td>-0.070945</td>\n",
              "      <td>0.178051</td>\n",
              "      <td>-0.016532</td>\n",
              "      <td>0.118185</td>\n",
              "      <td>0.118951</td>\n",
              "    </tr>\n",
              "    <tr>\n",
              "      <th>age</th>\n",
              "      <td>0.004545</td>\n",
              "      <td>-0.107541</td>\n",
              "      <td>-0.273613</td>\n",
              "      <td>1.000000</td>\n",
              "      <td>-0.080312</td>\n",
              "      <td>0.026359</td>\n",
              "      <td>0.102787</td>\n",
              "      <td>0.149941</td>\n",
              "      <td>-0.082838</td>\n",
              "      <td>0.044309</td>\n",
              "      <td>-0.062184</td>\n",
              "      <td>-0.232262</td>\n",
              "    </tr>\n",
              "    <tr>\n",
              "      <th>NumberOfTime30-59DaysPastDueNotWorse</th>\n",
              "      <td>0.000859</td>\n",
              "      <td>0.186670</td>\n",
              "      <td>0.189235</td>\n",
              "      <td>-0.080312</td>\n",
              "      <td>1.000000</td>\n",
              "      <td>0.020798</td>\n",
              "      <td>-0.014345</td>\n",
              "      <td>0.076909</td>\n",
              "      <td>0.097467</td>\n",
              "      <td>0.025817</td>\n",
              "      <td>0.119626</td>\n",
              "      <td>0.050001</td>\n",
              "    </tr>\n",
              "    <tr>\n",
              "      <th>DebtRatio</th>\n",
              "      <td>-0.000872</td>\n",
              "      <td>0.005924</td>\n",
              "      <td>0.075496</td>\n",
              "      <td>0.026359</td>\n",
              "      <td>0.020798</td>\n",
              "      <td>1.000000</td>\n",
              "      <td>-0.094914</td>\n",
              "      <td>0.226826</td>\n",
              "      <td>-0.057760</td>\n",
              "      <td>0.405013</td>\n",
              "      <td>-0.021645</td>\n",
              "      <td>-0.059114</td>\n",
              "    </tr>\n",
              "    <tr>\n",
              "      <th>MonthlyIncome</th>\n",
              "      <td>0.001518</td>\n",
              "      <td>-0.060144</td>\n",
              "      <td>-0.061229</td>\n",
              "      <td>0.102787</td>\n",
              "      <td>-0.014345</td>\n",
              "      <td>-0.094914</td>\n",
              "      <td>1.000000</td>\n",
              "      <td>0.267127</td>\n",
              "      <td>-0.076734</td>\n",
              "      <td>0.344247</td>\n",
              "      <td>-0.041885</td>\n",
              "      <td>0.186137</td>\n",
              "    </tr>\n",
              "    <tr>\n",
              "      <th>NumberOfOpenCreditLinesAndLoans</th>\n",
              "      <td>0.004633</td>\n",
              "      <td>-0.024916</td>\n",
              "      <td>-0.070945</td>\n",
              "      <td>0.149941</td>\n",
              "      <td>0.076909</td>\n",
              "      <td>0.226826</td>\n",
              "      <td>0.267127</td>\n",
              "      <td>1.000000</td>\n",
              "      <td>-0.117008</td>\n",
              "      <td>0.465272</td>\n",
              "      <td>-0.025526</td>\n",
              "      <td>0.110426</td>\n",
              "    </tr>\n",
              "    <tr>\n",
              "      <th>NumberOfTimes90DaysLate</th>\n",
              "      <td>-0.004994</td>\n",
              "      <td>0.248020</td>\n",
              "      <td>0.178051</td>\n",
              "      <td>-0.082838</td>\n",
              "      <td>0.097467</td>\n",
              "      <td>-0.057760</td>\n",
              "      <td>-0.076734</td>\n",
              "      <td>-0.117008</td>\n",
              "      <td>1.000000</td>\n",
              "      <td>-0.093082</td>\n",
              "      <td>0.079929</td>\n",
              "      <td>0.010526</td>\n",
              "    </tr>\n",
              "    <tr>\n",
              "      <th>NumberRealEstateLoansOrLines</th>\n",
              "      <td>-0.001615</td>\n",
              "      <td>-0.028045</td>\n",
              "      <td>-0.016532</td>\n",
              "      <td>0.044309</td>\n",
              "      <td>0.025817</td>\n",
              "      <td>0.405013</td>\n",
              "      <td>0.344247</td>\n",
              "      <td>0.465272</td>\n",
              "      <td>-0.093082</td>\n",
              "      <td>1.000000</td>\n",
              "      <td>-0.033292</td>\n",
              "      <td>0.173724</td>\n",
              "    </tr>\n",
              "    <tr>\n",
              "      <th>NumberOfTime60-89DaysPastDueNotWorse</th>\n",
              "      <td>0.001177</td>\n",
              "      <td>0.166578</td>\n",
              "      <td>0.118185</td>\n",
              "      <td>-0.062184</td>\n",
              "      <td>0.119626</td>\n",
              "      <td>-0.021645</td>\n",
              "      <td>-0.041885</td>\n",
              "      <td>-0.025526</td>\n",
              "      <td>0.079929</td>\n",
              "      <td>-0.033292</td>\n",
              "      <td>1.000000</td>\n",
              "      <td>0.014052</td>\n",
              "    </tr>\n",
              "    <tr>\n",
              "      <th>NumberOfDependents</th>\n",
              "      <td>-0.000926</td>\n",
              "      <td>0.036674</td>\n",
              "      <td>0.118951</td>\n",
              "      <td>-0.232262</td>\n",
              "      <td>0.050001</td>\n",
              "      <td>-0.059114</td>\n",
              "      <td>0.186137</td>\n",
              "      <td>0.110426</td>\n",
              "      <td>0.010526</td>\n",
              "      <td>0.173724</td>\n",
              "      <td>0.014052</td>\n",
              "      <td>1.000000</td>\n",
              "    </tr>\n",
              "  </tbody>\n",
              "</table>\n",
              "</div>"
            ],
            "text/plain": [
              "                                      Unnamed: 0  ...  NumberOfDependents\n",
              "Unnamed: 0                              1.000000  ...           -0.000926\n",
              "SeriousDlqin2yrs                        0.000925  ...            0.036674\n",
              "RevolvingUtilizationOfUnsecuredLines   -0.004502  ...            0.118951\n",
              "age                                     0.004545  ...           -0.232262\n",
              "NumberOfTime30-59DaysPastDueNotWorse    0.000859  ...            0.050001\n",
              "DebtRatio                              -0.000872  ...           -0.059114\n",
              "MonthlyIncome                           0.001518  ...            0.186137\n",
              "NumberOfOpenCreditLinesAndLoans         0.004633  ...            0.110426\n",
              "NumberOfTimes90DaysLate                -0.004994  ...            0.010526\n",
              "NumberRealEstateLoansOrLines           -0.001615  ...            0.173724\n",
              "NumberOfTime60-89DaysPastDueNotWorse    0.001177  ...            0.014052\n",
              "NumberOfDependents                     -0.000926  ...            1.000000\n",
              "\n",
              "[12 rows x 12 columns]"
            ]
          },
          "metadata": {
            "tags": []
          },
          "execution_count": 685
        }
      ]
    },
    {
      "cell_type": "markdown",
      "metadata": {
        "id": "9Q5DlhZVcDx4"
      },
      "source": [
        "We can see that the Target variable has the highest correlation with 'NumberOfTimes90DaysLate', 'NumberOfTime60-89DaysPastDueNotWorse', and 'RevolvingUtilizationOfUnsecuredLines'. So we will first investigate 'RevolvingUtilizationOfUnsecuredLines' more.\n",
        "\n"
      ]
    },
    {
      "cell_type": "code",
      "metadata": {
        "colab": {
          "base_uri": "https://localhost:8080/"
        },
        "id": "Z8_3rSV_dGBY",
        "outputId": "b3d00946-adf0-4e5d-9a46-4d99898a1ff5"
      },
      "source": [
        "train_df.RevolvingUtilizationOfUnsecuredLines.describe()"
      ],
      "execution_count": 686,
      "outputs": [
        {
          "output_type": "execute_result",
          "data": {
            "text/plain": [
              "count    144793.000000\n",
              "mean          5.555829\n",
              "std         242.303458\n",
              "min           0.000000\n",
              "25%           0.028492\n",
              "50%           0.143735\n",
              "75%           0.524501\n",
              "max       50708.000000\n",
              "Name: RevolvingUtilizationOfUnsecuredLines, dtype: float64"
            ]
          },
          "metadata": {
            "tags": []
          },
          "execution_count": 686
        }
      ]
    },
    {
      "cell_type": "code",
      "metadata": {
        "id": "DMJLsBz8ppNF"
      },
      "source": [
        "train_df = train_df.rename(columns={'Unnamed: 0': 'Unknown',\n",
        "                                  'SeriousDlqin2yrs': 'Target',\n",
        "                                  'RevolvingUtilizationOfUnsecuredLines': 'UnsecLines',\n",
        "                                  'NumberOfTime30-59DaysPastDueNotWorse': 'Late3059',\n",
        "                                  'DebtRatio': 'DebtRatio',\n",
        "                                  'MonthlyIncome': 'MonthlyIncome',\n",
        "                                  'NumberOfOpenCreditLinesAndLoans': 'OpenCredit',\n",
        "                                  'NumberOfTimes90DaysLate': 'Late90',\n",
        "                                  'NumberRealEstateLoansOrLines': 'PropLines',\n",
        "                                  'NumberOfTime60-89DaysPastDueNotWorse': 'Late6089',\n",
        "                                  'NumberOfDependents': 'Deps'})\n",
        "test_df = test_df.rename(columns={'Unnamed: 0': 'Unknown',\n",
        "                                  'SeriousDlqin2yrs': 'Target',\n",
        "                                  'RevolvingUtilizationOfUnsecuredLines': 'UnsecLines',\n",
        "                                  'NumberOfTime30-59DaysPastDueNotWorse': 'Late3059',\n",
        "                                  'DebtRatio': 'DebtRatio',\n",
        "                                  'MonthlyIncome': 'MonthlyIncome',\n",
        "                                  'NumberOfOpenCreditLinesAndLoans': 'OpenCredit',\n",
        "                                  'NumberOfTimes90DaysLate': 'Late90',\n",
        "                                  'NumberRealEstateLoansOrLines': 'PropLines',\n",
        "                                  'NumberOfTime60-89DaysPastDueNotWorse': 'Late6089',\n",
        "                                  'NumberOfDependents': 'Deps'})"
      ],
      "execution_count": 687,
      "outputs": []
    },
    {
      "cell_type": "code",
      "metadata": {
        "id": "NjeiLvsB8-RA"
      },
      "source": [
        "## Separate train features and label \n",
        "train_df[\"Target\"] = train_df[\"Target\"].astype(int)\n",
        "X_train = train_df.drop(labels = [\"Target\", \"Unknown\"],axis = 1)\n",
        "Y_train = train_df[\"Target\"]"
      ],
      "execution_count": 688,
      "outputs": []
    },
    {
      "cell_type": "code",
      "metadata": {
        "colab": {
          "base_uri": "https://localhost:8080/"
        },
        "id": "qatLRdDo_Ipt",
        "outputId": "42fcfcfc-5c67-4212-dac1-027706f8b1ee"
      },
      "source": [
        "X_train.isnull().sum()"
      ],
      "execution_count": 689,
      "outputs": [
        {
          "output_type": "execute_result",
          "data": {
            "text/plain": [
              "UnsecLines       0\n",
              "age              0\n",
              "Late3059         0\n",
              "DebtRatio        0\n",
              "MonthlyIncome    0\n",
              "OpenCredit       0\n",
              "Late90           0\n",
              "PropLines        0\n",
              "Late6089         0\n",
              "Deps             0\n",
              "dtype: int64"
            ]
          },
          "metadata": {
            "tags": []
          },
          "execution_count": 689
        }
      ]
    },
    {
      "cell_type": "code",
      "metadata": {
        "id": "izatVQB89nfv"
      },
      "source": [
        "from sklearn.ensemble import RandomForestClassifier\n",
        "clf = RandomForestClassifier(n_estimators=50, max_features='sqrt')\n",
        "clf = clf.fit(X_train, Y_train)"
      ],
      "execution_count": 690,
      "outputs": []
    },
    {
      "cell_type": "code",
      "metadata": {
        "id": "XkkzYcqx9tXX"
      },
      "source": [
        "features = pd.DataFrame()\n",
        "features['feature'] = X_train.columns\n",
        "features['importance'] = clf.feature_importances_\n",
        "features.sort_values(by=['importance'], ascending=True, inplace=True)\n",
        "features.set_index('feature', inplace=True)"
      ],
      "execution_count": 691,
      "outputs": []
    },
    {
      "cell_type": "code",
      "metadata": {
        "colab": {
          "base_uri": "https://localhost:8080/",
          "height": 809
        },
        "id": "e9-LqJeEAr6I",
        "outputId": "8dc165e6-fc69-4e86-a46e-a0050325f730"
      },
      "source": [
        "features.plot(kind='barh', figsize=(20, 20))"
      ],
      "execution_count": 692,
      "outputs": [
        {
          "output_type": "execute_result",
          "data": {
            "text/plain": [
              "<matplotlib.axes._subplots.AxesSubplot at 0x7f1c6c33e828>"
            ]
          },
          "metadata": {
            "tags": []
          },
          "execution_count": 692
        },
        {
          "output_type": "display_data",
          "data": {
            "image/png": "[encoded data removed]",
            "text/plain": [
              "<Figure size 1440x1440 with 1 Axes>"
            ]
          },
          "metadata": {
            "tags": []
          }
        }
      ]
    },
    {
      "cell_type": "code",
      "metadata": {
        "id": "-QumJX1tOR7_"
      },
      "source": [
        "test_df = test_df.rename(columns={'Unnamed: 0': 'Unknown'})"
      ],
      "execution_count": 693,
      "outputs": []
    },
    {
      "cell_type": "code",
      "metadata": {
        "id": "EeJ0i6QCDdKL"
      },
      "source": [
        "results_df = test_df.drop(['UnsecLines','age','Late3059','DebtRatio','MonthlyIncome','OpenCredit', 'Late90',\n",
        "                        'PropLines', 'Late6089', 'Deps'], axis=1)"
      ],
      "execution_count": 694,
      "outputs": []
    },
    {
      "cell_type": "code",
      "metadata": {
        "colab": {
          "base_uri": "https://localhost:8080/",
          "height": 202
        },
        "id": "t0RxcOGkETyv",
        "outputId": "19808864-1618-498f-a3a9-98817addefd1"
      },
      "source": [
        "results_df.head()"
      ],
      "execution_count": 695,
      "outputs": [
        {
          "output_type": "execute_result",
          "data": {
            "text/html": [
              "<div>\n",
              "<style scoped>\n",
              "    .dataframe tbody tr th:only-of-type {\n",
              "        vertical-align: middle;\n",
              "    }\n",
              "\n",
              "    .dataframe tbody tr th {\n",
              "        vertical-align: top;\n",
              "    }\n",
              "\n",
              "    .dataframe thead th {\n",
              "        text-align: right;\n",
              "    }\n",
              "</style>\n",
              "<table border=\"1\" class=\"dataframe\">\n",
              "  <thead>\n",
              "    <tr style=\"text-align: right;\">\n",
              "      <th></th>\n",
              "      <th>Unknown</th>\n",
              "      <th>Target</th>\n",
              "    </tr>\n",
              "  </thead>\n",
              "  <tbody>\n",
              "    <tr>\n",
              "      <th>0</th>\n",
              "      <td>1</td>\n",
              "      <td>NaN</td>\n",
              "    </tr>\n",
              "    <tr>\n",
              "      <th>1</th>\n",
              "      <td>2</td>\n",
              "      <td>NaN</td>\n",
              "    </tr>\n",
              "    <tr>\n",
              "      <th>2</th>\n",
              "      <td>3</td>\n",
              "      <td>NaN</td>\n",
              "    </tr>\n",
              "    <tr>\n",
              "      <th>3</th>\n",
              "      <td>4</td>\n",
              "      <td>NaN</td>\n",
              "    </tr>\n",
              "    <tr>\n",
              "      <th>4</th>\n",
              "      <td>5</td>\n",
              "      <td>NaN</td>\n",
              "    </tr>\n",
              "  </tbody>\n",
              "</table>\n",
              "</div>"
            ],
            "text/plain": [
              "   Unknown  Target\n",
              "0        1     NaN\n",
              "1        2     NaN\n",
              "2        3     NaN\n",
              "3        4     NaN\n",
              "4        5     NaN"
            ]
          },
          "metadata": {
            "tags": []
          },
          "execution_count": 695
        }
      ]
    },
    {
      "cell_type": "code",
      "metadata": {
        "id": "Gsoa2SszElLI"
      },
      "source": [
        "model = RandomForestClassifier(n_estimators=15, max_depth=6, random_state=0)\n",
        "model.fit(X_train, Y_train)\n",
        "# y_pred = model.predict_proba(test_df.drop([\"Unknown\"], axis=1))\n",
        "y_pred = model.predict_proba(test_df.drop([\"Unknown\",\"Target\"], axis=1))\n",
        "y_pred = y_pred[:,1]\n",
        "results_df.Target = y_pred"
      ],
      "execution_count": 696,
      "outputs": []
    },
    {
      "cell_type": "code",
      "metadata": {
        "colab": {
          "base_uri": "https://localhost:8080/"
        },
        "id": "MlUF5Z40ZxcK",
        "outputId": "b75eb370-68da-4697-8a64-78feb30d6826"
      },
      "source": [
        "y_pred"
      ],
      "execution_count": 697,
      "outputs": [
        {
          "output_type": "execute_result",
          "data": {
            "text/plain": [
              "array([0.09170992, 0.04745981, 0.01968301, ..., 0.0103965 , 0.10458805,\n",
              "       0.0327474 ])"
            ]
          },
          "metadata": {
            "tags": []
          },
          "execution_count": 697
        }
      ]
    },
    {
      "cell_type": "code",
      "metadata": {
        "colab": {
          "base_uri": "https://localhost:8080/",
          "height": 202
        },
        "id": "JJQnYsTvYvzN",
        "outputId": "13b307e5-975d-4cdf-bf75-fc147e41635f"
      },
      "source": [
        "results_df = results_df.rename(columns={'Unknown': 'Id',\n",
        "                                        'Target': 'Probability'})\n",
        "results_df.head()"
      ],
      "execution_count": 698,
      "outputs": [
        {
          "output_type": "execute_result",
          "data": {
            "text/html": [
              "<div>\n",
              "<style scoped>\n",
              "    .dataframe tbody tr th:only-of-type {\n",
              "        vertical-align: middle;\n",
              "    }\n",
              "\n",
              "    .dataframe tbody tr th {\n",
              "        vertical-align: top;\n",
              "    }\n",
              "\n",
              "    .dataframe thead th {\n",
              "        text-align: right;\n",
              "    }\n",
              "</style>\n",
              "<table border=\"1\" class=\"dataframe\">\n",
              "  <thead>\n",
              "    <tr style=\"text-align: right;\">\n",
              "      <th></th>\n",
              "      <th>Id</th>\n",
              "      <th>Probability</th>\n",
              "    </tr>\n",
              "  </thead>\n",
              "  <tbody>\n",
              "    <tr>\n",
              "      <th>0</th>\n",
              "      <td>1</td>\n",
              "      <td>0.091710</td>\n",
              "    </tr>\n",
              "    <tr>\n",
              "      <th>1</th>\n",
              "      <td>2</td>\n",
              "      <td>0.047460</td>\n",
              "    </tr>\n",
              "    <tr>\n",
              "      <th>2</th>\n",
              "      <td>3</td>\n",
              "      <td>0.019683</td>\n",
              "    </tr>\n",
              "    <tr>\n",
              "      <th>3</th>\n",
              "      <td>4</td>\n",
              "      <td>0.052989</td>\n",
              "    </tr>\n",
              "    <tr>\n",
              "      <th>4</th>\n",
              "      <td>5</td>\n",
              "      <td>0.101161</td>\n",
              "    </tr>\n",
              "  </tbody>\n",
              "</table>\n",
              "</div>"
            ],
            "text/plain": [
              "   Id  Probability\n",
              "0   1     0.091710\n",
              "1   2     0.047460\n",
              "2   3     0.019683\n",
              "3   4     0.052989\n",
              "4   5     0.101161"
            ]
          },
          "metadata": {
            "tags": []
          },
          "execution_count": 698
        }
      ]
    },
    {
      "cell_type": "code",
      "metadata": {
        "id": "4ZIYdoGTYyCc"
      },
      "source": [
        "results_df.to_csv(\"KAGGLE_CREDIT_SCORE.csv\", index=False)"
      ],
      "execution_count": 699,
      "outputs": []
    }
  ]
}